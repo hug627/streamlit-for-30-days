{
  "nbformat": 4,
  "nbformat_minor": 0,
  "metadata": {
    "colab": {
      "provenance": [],
      "authorship_tag": "ABX9TyN84oTFKd4qT9/Xnze+h7cC",
      "include_colab_link": true
    },
    "kernelspec": {
      "name": "python3",
      "display_name": "Python 3"
    },
    "language_info": {
      "name": "python"
    }
  },
  "cells": [
    {
      "cell_type": "markdown",
      "metadata": {
        "id": "view-in-github",
        "colab_type": "text"
      },
      "source": [
        "<a href=\"https://colab.research.google.com/github/hug627/streamlit-for-30-days/blob/main/OOP.ipynb\" target=\"_parent\"><img src=\"https://colab.research.google.com/assets/colab-badge.svg\" alt=\"Open In Colab\"/></a>"
      ]
    },
    {
      "cell_type": "code",
      "execution_count": 1,
      "metadata": {
        "colab": {
          "base_uri": "https://localhost:8080/"
        },
        "id": "p4ZFQJjihUIg",
        "outputId": "b85293b0-b64d-41b5-fb13-a382845400da"
      },
      "outputs": [
        {
          "output_type": "stream",
          "name": "stdout",
          "text": [
            "Created: Account(account_number='123456789', account_holder='Alice', account_balance=50.00)\n",
            "Deposited 25.00 into Alice's account. New balance: 75.00\n",
            "Withdrew 10.00 from Alice's account. New balance: 65.00\n",
            "Alice's balance: 65.00\n",
            "Deposited 50.00 into Bob's account. New balance: 150.00\n",
            "Withdrawal failed: insufficient funds (balance: 200.00, attempted: 250.00).\n",
            "Withdrew 150.00 from Carol's account. New balance: 50.00\n",
            "Final accounts:\n",
            "Account(account_number='0001', account_holder='Bob', account_balance=150.00)\n",
            "Account(account_number='0002', account_holder='Carol', account_balance=50.00)\n"
          ]
        }
      ],
      "source": [
        "# bank_account.py\n",
        "\n",
        "from __future__ import annotations\n",
        "\n",
        "class Account:\n",
        "    \"\"\"\n",
        "    A simple bank account class.\n",
        "\n",
        "    Attributes:\n",
        "        account_number (str)\n",
        "        account_holder (str)\n",
        "        account_balance (float)\n",
        "    \"\"\"\n",
        "\n",
        "    def __init__(self, account_number: str, account_holder: str, account_balance: float = 0.0):\n",
        "        self.account_number = str(account_number)\n",
        "        self.account_holder = str(account_holder)\n",
        "        self.account_balance = float(account_balance)\n",
        "\n",
        "    def deposit(self, amount: float) -> bool:\n",
        "        \"\"\"\n",
        "        Deposit `amount` into the account.\n",
        "        Returns True if deposit succeeded, False otherwise (e.g., non-positive amount).\n",
        "        \"\"\"\n",
        "        if amount <= 0:\n",
        "            print(\"Deposit failed: amount must be positive.\")\n",
        "            return False\n",
        "        self.account_balance += float(amount)\n",
        "        print(f\"Deposited {amount:.2f} into {self.account_holder}'s account. New balance: {self.account_balance:.2f}\")\n",
        "        return True\n",
        "\n",
        "    def withdraw(self, amount: float) -> bool:\n",
        "        \"\"\"\n",
        "        Withdraw `amount` from the account if there are sufficient funds.\n",
        "        Returns True if withdrawal succeeded, False otherwise.\n",
        "        \"\"\"\n",
        "        if amount <= 0:\n",
        "            print(\"Withdrawal failed: amount must be positive.\")\n",
        "            return False\n",
        "        if self.account_balance >= amount:\n",
        "            self.account_balance -= float(amount)\n",
        "            print(f\"Withdrew {amount:.2f} from {self.account_holder}'s account. New balance: {self.account_balance:.2f}\")\n",
        "            return True\n",
        "        else:\n",
        "            print(f\"Withdrawal failed: insufficient funds (balance: {self.account_balance:.2f}, attempted: {amount:.2f}).\")\n",
        "            return False\n",
        "\n",
        "    def check_balance(self) -> float:\n",
        "        \"\"\"Return the current account balance.\"\"\"\n",
        "        return self.account_balance\n",
        "\n",
        "    def __repr__(self) -> str:\n",
        "        return f\"Account(account_number='{self.account_number}', account_holder='{self.account_holder}', account_balance={self.account_balance:.2f})\"\n",
        "\n",
        "\n",
        "# Simple tests / demonstration\n",
        "if __name__ == \"__main__\":\n",
        "    # 1) Create an instance called my_account\n",
        "    my_account = Account(account_number=\"123456789\", account_holder=\"Alice\", account_balance=50.0)\n",
        "    print(\"Created:\", my_account)\n",
        "\n",
        "    # 2) Use deposit()\n",
        "    my_account.deposit(25.0)      # should add 25 -> balance 75.00\n",
        "\n",
        "    # 3) Use withdraw()\n",
        "    my_account.withdraw(10.0)     # should subtract 10 -> balance 65.00\n",
        "\n",
        "    # 4) Check balance\n",
        "    print(f\"Alice's balance: {my_account.check_balance():.2f}\")\n",
        "\n",
        "    # 5) Create multiple accounts and test different transactions\n",
        "    acc1 = Account(\"0001\", \"Bob\", 100.0)\n",
        "    acc2 = Account(\"0002\", \"Carol\", 200.0)\n",
        "\n",
        "    acc1.deposit(50.0)            # Bob -> 150\n",
        "    acc2.withdraw(250.0)          # Carol -> should fail (insufficient)\n",
        "    acc2.withdraw(150.0)          # Carol -> 50\n",
        "\n",
        "    print(\"Final accounts:\")\n",
        "    print(acc1)\n",
        "    print(acc2)\n"
      ]
    }
  ]
}