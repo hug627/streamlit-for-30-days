{
  "nbformat": 4,
  "nbformat_minor": 0,
  "metadata": {
    "colab": {
      "provenance": [],
      "authorship_tag": "ABX9TyO2fgSD8G5Eobgl1kUrg8Og",
      "include_colab_link": true
    },
    "kernelspec": {
      "name": "python3",
      "display_name": "Python 3"
    },
    "language_info": {
      "name": "python"
    }
  },
  "cells": [
    {
      "cell_type": "markdown",
      "metadata": {
        "id": "view-in-github",
        "colab_type": "text"
      },
      "source": [
        "<a href=\"https://colab.research.google.com/github/hug627/streamlit-for-30-days/blob/main/RandomForest.ipynb\" target=\"_parent\"><img src=\"https://colab.research.google.com/assets/colab-badge.svg\" alt=\"Open In Colab\"/></a>"
      ]
    },
    {
      "cell_type": "code",
      "execution_count": 2,
      "metadata": {
        "id": "dgUvMf1kXmRj"
      },
      "outputs": [],
      "source": [
        "from sklearn import datasets\n",
        "import pandas as pd\n",
        "from sklearn.model_selection import train_test_split\n",
        "from sklearn.ensemble import RandomForestClassifier #Importing Random Forest Classifier\n",
        "from sklearn import metrics  # Importing metrics to test accuracy\n",
        "iris = datasets.load_iris()\n",
        "data=pd.DataFrame({\n",
        "'sepal length': iris.data[:,0],\n",
        "'sepal width': iris.data[:,1],\n",
        "'petal length': iris.data[:,2],\n",
        "'petal width': iris.data[:,3],\n",
        "'species': iris.target})\n",
        "X=data[['sepal length', 'sepal width', 'petal length', 'petal width']] #features\n",
        "y=data['species']  #target\n",
        "x_train, x_test, y_train, y_test= train_test_split(X, y, test_size=0.3) #splitting data with test size of 30%"
      ]
    },
    {
      "cell_type": "code",
      "source": [
        "clf=RandomForestClassifier(n_estimators=10)  #Creating a random forest with 10 decision trees\n",
        "clf.fit(x_train, y_train)  #Training our model\n",
        "y_pred=clf.predict(x_test)  #testing our model\n",
        "print(\"Accuracy:\", metrics.accuracy_score(y_test, y_pred))  #Measuring the accuracy of our model"
      ],
      "metadata": {
        "colab": {
          "base_uri": "https://localhost:8080/"
        },
        "id": "0f-AC0G0X3Lz",
        "outputId": "1918f186-7449-4f58-e58a-338c056c5d8f"
      },
      "execution_count": 3,
      "outputs": [
        {
          "output_type": "stream",
          "name": "stdout",
          "text": [
            "Accuracy: 0.9111111111111111\n"
          ]
        }
      ]
    }
  ]
}