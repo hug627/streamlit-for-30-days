{
  "nbformat": 4,
  "nbformat_minor": 0,
  "metadata": {
    "colab": {
      "provenance": [],
      "authorship_tag": "ABX9TyPI+CRhFk71is0HFA/HBNtH",
      "include_colab_link": true
    },
    "kernelspec": {
      "name": "python3",
      "display_name": "Python 3"
    },
    "language_info": {
      "name": "python"
    }
  },
  "cells": [
    {
      "cell_type": "markdown",
      "metadata": {
        "id": "view-in-github",
        "colab_type": "text"
      },
      "source": [
        "<a href=\"https://colab.research.google.com/github/hug627/streamlit-for-30-days/blob/main/Artificial_Neural_Network_Checkpoint.ipynb\" target=\"_parent\"><img src=\"https://colab.research.google.com/assets/colab-badge.svg\" alt=\"Open In Colab\"/></a>"
      ]
    },
    {
      "cell_type": "code",
      "source": [
        "# how to load  MNIST Dataset\n",
        "import tensorflow as tf\n",
        "(x_train, y_train), (x_test, y_test) = tf.keras.datasets.mnist.load_data()\n",
        "print(x_train.shape)"
      ],
      "metadata": {
        "colab": {
          "base_uri": "https://localhost:8080/"
        },
        "id": "xRysVL5omhuV",
        "outputId": "410c5118-9ad4-4a2e-e28a-c6e24cad19ca"
      },
      "execution_count": 15,
      "outputs": [
        {
          "output_type": "stream",
          "name": "stdout",
          "text": [
            "(60000, 28, 28)\n"
          ]
        }
      ]
    },
    {
      "cell_type": "code",
      "source": [
        "# Normalize feature data.\n",
        "x_train, x_test = x_train / 255.0, x_test / 255.0"
      ],
      "metadata": {
        "id": "zooa-rQOm8bH"
      },
      "execution_count": 3,
      "outputs": []
    },
    {
      "cell_type": "code",
      "source": [
        "# Encode categorical labels.\n",
        "y_train_encoded = tf.keras.utils.to_categorical(y_train, num_classes=10)\n",
        "y_test_encoded = tf.keras.utils.to_categorical(y_test, num_classes=10)\n",
        "\n",
        "print(y_train_encoded.shape)"
      ],
      "metadata": {
        "colab": {
          "base_uri": "https://localhost:8080/"
        },
        "id": "ftgVaQBSnGN6",
        "outputId": "4dbf27d7-3775-400b-e456-85989e7a0939"
      },
      "execution_count": 4,
      "outputs": [
        {
          "output_type": "stream",
          "name": "stdout",
          "text": [
            "(60000, 10)\n"
          ]
        }
      ]
    },
    {
      "cell_type": "code",
      "source": [
        "# Split the data into training and testing sets.\n",
        "from sklearn.model_selection import train_test_split\n",
        "\n",
        "# Since MNIST is already split, this is for demonstration purposes\n",
        "# In a real scenario, you would use this on a combined dataset\n",
        "# x_train, x_test, y_train_encoded, y_test_encoded = train_test_split(\n",
        "#     x, y_encoded, test_size=0.2, random_state=42\n",
        "# )\n",
        "# print(x_train.shape, x_test.shape, y_train_encoded.shape, y_test_encoded.shape)\n",
        "print(\"MNIST dataset is already split into training and testing sets.\")"
      ],
      "metadata": {
        "colab": {
          "base_uri": "https://localhost:8080/"
        },
        "id": "qePzGonTnep-",
        "outputId": "e615f347-82ed-4f39-ab51-f58a740c4e1e"
      },
      "execution_count": 5,
      "outputs": [
        {
          "output_type": "stream",
          "name": "stdout",
          "text": [
            "MNIST dataset is already split into training and testing sets.\n"
          ]
        }
      ]
    },
    {
      "cell_type": "code",
      "source": [
        "# Reshape the 28x28 images into flat 784-pixel array\n",
        "x_train_flat = x_train.reshape(x_train.shape[0], -1)\n",
        "print(x_train_flat)\n",
        "x_test_flat = x_test.reshape(x_test.shape[0], -1)\n",
        "print(x_test_flat)"
      ],
      "metadata": {
        "colab": {
          "base_uri": "https://localhost:8080/"
        },
        "id": "DUy5ZKMSnz68",
        "outputId": "1a74f1d8-e4f1-4cd6-c6e3-062f5c94476f"
      },
      "execution_count": 16,
      "outputs": [
        {
          "output_type": "stream",
          "name": "stdout",
          "text": [
            "[[0 0 0 ... 0 0 0]\n",
            " [0 0 0 ... 0 0 0]\n",
            " [0 0 0 ... 0 0 0]\n",
            " ...\n",
            " [0 0 0 ... 0 0 0]\n",
            " [0 0 0 ... 0 0 0]\n",
            " [0 0 0 ... 0 0 0]]\n",
            "[[0 0 0 ... 0 0 0]\n",
            " [0 0 0 ... 0 0 0]\n",
            " [0 0 0 ... 0 0 0]\n",
            " ...\n",
            " [0 0 0 ... 0 0 0]\n",
            " [0 0 0 ... 0 0 0]\n",
            " [0 0 0 ... 0 0 0]]\n"
          ]
        }
      ]
    },
    {
      "cell_type": "code",
      "source": [
        "# Normalize pixel values to range between 0 and 1.\n",
        "x_train_flat = x_train_flat / 255.0\n",
        "print(x_train_flat)\n",
        "x_test_flat = x_test_flat / 255.0\n",
        "print(x_test_flat)"
      ],
      "metadata": {
        "colab": {
          "base_uri": "https://localhost:8080/"
        },
        "id": "Yv_X7Z90oHCO",
        "outputId": "5c88a261-5165-4530-92b3-e43a9d29e945"
      },
      "execution_count": 17,
      "outputs": [
        {
          "output_type": "stream",
          "name": "stdout",
          "text": [
            "[[0. 0. 0. ... 0. 0. 0.]\n",
            " [0. 0. 0. ... 0. 0. 0.]\n",
            " [0. 0. 0. ... 0. 0. 0.]\n",
            " ...\n",
            " [0. 0. 0. ... 0. 0. 0.]\n",
            " [0. 0. 0. ... 0. 0. 0.]\n",
            " [0. 0. 0. ... 0. 0. 0.]]\n",
            "[[0. 0. 0. ... 0. 0. 0.]\n",
            " [0. 0. 0. ... 0. 0. 0.]\n",
            " [0. 0. 0. ... 0. 0. 0.]\n",
            " ...\n",
            " [0. 0. 0. ... 0. 0. 0.]\n",
            " [0. 0. 0. ... 0. 0. 0.]\n",
            " [0. 0. 0. ... 0. 0. 0.]]\n"
          ]
        }
      ]
    },
    {
      "cell_type": "code",
      "source": [
        "# Convert labels into one-hot encoded vectors.\n",
        "y_train_encoded = tf.keras.utils.to_categorical(y_train, num_classes=10)\n",
        "print(y_train_encoded)\n",
        "y_test_encoded = tf.keras.utils.to_categorical(y_test, num_classes=10)\n",
        "print(y_test_encoded)"
      ],
      "metadata": {
        "colab": {
          "base_uri": "https://localhost:8080/"
        },
        "id": "TQk1rhc7odwl",
        "outputId": "75383d05-98a2-45f2-c490-d013032d6c6a"
      },
      "execution_count": 18,
      "outputs": [
        {
          "output_type": "stream",
          "name": "stdout",
          "text": [
            "[[0. 0. 0. ... 0. 0. 0.]\n",
            " [1. 0. 0. ... 0. 0. 0.]\n",
            " [0. 0. 0. ... 0. 0. 0.]\n",
            " ...\n",
            " [0. 0. 0. ... 0. 0. 0.]\n",
            " [0. 0. 0. ... 0. 0. 0.]\n",
            " [0. 0. 0. ... 0. 1. 0.]]\n",
            "[[0. 0. 0. ... 1. 0. 0.]\n",
            " [0. 0. 1. ... 0. 0. 0.]\n",
            " [0. 1. 0. ... 0. 0. 0.]\n",
            " ...\n",
            " [0. 0. 0. ... 0. 0. 0.]\n",
            " [0. 0. 0. ... 0. 0. 0.]\n",
            " [0. 0. 0. ... 0. 0. 0.]]\n"
          ]
        }
      ]
    },
    {
      "cell_type": "code",
      "source": [
        "# Optionally, create a validation set to aid in hyperparameter tuning.\n",
        "x_train_flat, x_val_flat, y_train_encoded, y_val_encoded = train_test_split(\n",
        "    x_train_flat, y_train_encoded, test_size=0.2, random_state=42\n",
        ")"
      ],
      "metadata": {
        "id": "he_RcqUZo7is"
      },
      "execution_count": 19,
      "outputs": []
    },
    {
      "cell_type": "code",
      "source": [
        "# Input Layer: Adjust to match the number of input features (784 for MNIST)\n",
        "input_layer = tf.keras.layers.Input(shape=(784,))\n",
        "print(input_layer)"
      ],
      "metadata": {
        "colab": {
          "base_uri": "https://localhost:8080/"
        },
        "id": "Jg3h6BiQpF6o",
        "outputId": "36e30ec0-f254-470b-902c-682e0aa8c32e"
      },
      "execution_count": 20,
      "outputs": [
        {
          "output_type": "stream",
          "name": "stdout",
          "text": [
            "<KerasTensor shape=(None, 784), dtype=float32, sparse=False, ragged=False, name=keras_tensor_2>\n"
          ]
        }
      ]
    },
    {
      "cell_type": "code",
      "source": [
        "# Hidden Layers: Include at least one hidden layer with 'relu' activation. Additional layers may be added to increase model complexity.\n",
        "hidden_layer1 = tf.keras.layers.Dense(128, activation='relu')(input_layer)\n",
        "print(hidden_layer1)"
      ],
      "metadata": {
        "colab": {
          "base_uri": "https://localhost:8080/"
        },
        "id": "Sf7iHfmBqABR",
        "outputId": "ae500e7a-dac6-4bbe-c86f-2bd781f0b118"
      },
      "execution_count": 21,
      "outputs": [
        {
          "output_type": "stream",
          "name": "stdout",
          "text": [
            "<KerasTensor shape=(None, 128), dtype=float32, sparse=False, ragged=False, name=keras_tensor_3>\n"
          ]
        }
      ]
    },
    {
      "cell_type": "code",
      "source": [
        "# Output Layer: Use 'softmax' activation for Iris and 'sigmoid' for binary classification tasks like MNIST (if treated as binary).\n",
        "output_layer = tf.keras.layers.Dense(10, activation='softmax')(hidden_layer1)\n",
        "print(output_layer)"
      ],
      "metadata": {
        "colab": {
          "base_uri": "https://localhost:8080/"
        },
        "id": "2s9M2QihqFis",
        "outputId": "194c5855-5fdd-4242-cefb-d0996d256ab9"
      },
      "execution_count": 22,
      "outputs": [
        {
          "output_type": "stream",
          "name": "stdout",
          "text": [
            "<KerasTensor shape=(None, 10), dtype=float32, sparse=False, ragged=False, name=keras_tensor_4>\n"
          ]
        }
      ]
    },
    {
      "cell_type": "code",
      "source": [
        "# Optimizer: 'adam' for reliable performance across both datasets.\n",
        "optimizer = tf.keras.optimizers.Adam(learning_rate=0.001)\n",
        "print(optimizer)"
      ],
      "metadata": {
        "colab": {
          "base_uri": "https://localhost:8080/"
        },
        "id": "fFLiIDirqSp6",
        "outputId": "841921d9-8ab9-4187-9435-e84f247fe8dc"
      },
      "execution_count": 23,
      "outputs": [
        {
          "output_type": "stream",
          "name": "stdout",
          "text": [
            "<keras.src.optimizers.adam.Adam object at 0x7dce731bb170>\n"
          ]
        }
      ]
    },
    {
      "cell_type": "code",
      "source": [
        "# Loss Function: Use 'categorical_crossentropy' for multi-class tasks (MNIST); 'binary_crossentropy' for binary classification.\n",
        "loss_function = 'categorical_crossentropy'\n",
        "print(loss_function)"
      ],
      "metadata": {
        "colab": {
          "base_uri": "https://localhost:8080/"
        },
        "id": "vAgDmtAGqbIF",
        "outputId": "05e648ef-e38c-4596-d01d-e75a7aa42c54"
      },
      "execution_count": 24,
      "outputs": [
        {
          "output_type": "stream",
          "name": "stdout",
          "text": [
            "categorical_crossentropy\n"
          ]
        }
      ]
    },
    {
      "cell_type": "code",
      "source": [
        "# Metrics: Focus on 'accuracy' as the primary metric.\n",
        "metrics = ['accuracy']\n",
        "print(metrics)\n"
      ],
      "metadata": {
        "colab": {
          "base_uri": "https://localhost:8080/"
        },
        "id": "Dtj6t5NFqlOn",
        "outputId": "1bbbd75c-107e-4539-b88f-1fea79b26bf4"
      },
      "execution_count": 25,
      "outputs": [
        {
          "output_type": "stream",
          "name": "stdout",
          "text": [
            "['accuracy']\n"
          ]
        }
      ]
    },
    {
      "cell_type": "code",
      "source": [
        "# Train the model using the training data, while utilizing the validation set to monitor performance.\n",
        "\n",
        "# Build the model (assuming input_layer, hidden_layer1, and output_layer are defined in previous cells)\n",
        "model = tf.keras.models.Model(inputs=input_layer, outputs=output_layer)\n",
        "\n",
        "# Compile the model (assuming optimizer, loss_function, and metrics are defined in previous cells)\n",
        "model.compile(optimizer=optimizer,\n",
        "              loss=loss_function,\n",
        "              metrics=metrics)\n",
        "\n",
        "# Train the model\n",
        "history = model.fit(x_train_flat, y_train_encoded, epochs=10, validation_data=(x_val_flat, y_val_encoded))"
      ],
      "metadata": {
        "colab": {
          "base_uri": "https://localhost:8080/"
        },
        "id": "SM3hRCGtqt9G",
        "outputId": "f6ca8115-e6be-46b0-8722-6fd73d601a4b"
      },
      "execution_count": 26,
      "outputs": [
        {
          "output_type": "stream",
          "name": "stdout",
          "text": [
            "Epoch 1/10\n",
            "\u001b[1m1500/1500\u001b[0m \u001b[32m━━━━━━━━━━━━━━━━━━━━\u001b[0m\u001b[37m\u001b[0m \u001b[1m8s\u001b[0m 4ms/step - accuracy: 0.8620 - loss: 0.4800 - val_accuracy: 0.9537 - val_loss: 0.1634\n",
            "Epoch 2/10\n",
            "\u001b[1m1500/1500\u001b[0m \u001b[32m━━━━━━━━━━━━━━━━━━━━\u001b[0m\u001b[37m\u001b[0m \u001b[1m7s\u001b[0m 5ms/step - accuracy: 0.9590 - loss: 0.1422 - val_accuracy: 0.9626 - val_loss: 0.1233\n",
            "Epoch 3/10\n",
            "\u001b[1m1500/1500\u001b[0m \u001b[32m━━━━━━━━━━━━━━━━━━━━\u001b[0m\u001b[37m\u001b[0m \u001b[1m10s\u001b[0m 5ms/step - accuracy: 0.9726 - loss: 0.0937 - val_accuracy: 0.9712 - val_loss: 0.0980\n",
            "Epoch 4/10\n",
            "\u001b[1m1500/1500\u001b[0m \u001b[32m━━━━━━━━━━━━━━━━━━━━\u001b[0m\u001b[37m\u001b[0m \u001b[1m6s\u001b[0m 4ms/step - accuracy: 0.9796 - loss: 0.0681 - val_accuracy: 0.9707 - val_loss: 0.0973\n",
            "Epoch 5/10\n",
            "\u001b[1m1500/1500\u001b[0m \u001b[32m━━━━━━━━━━━━━━━━━━━━\u001b[0m\u001b[37m\u001b[0m \u001b[1m8s\u001b[0m 5ms/step - accuracy: 0.9847 - loss: 0.0500 - val_accuracy: 0.9756 - val_loss: 0.0820\n",
            "Epoch 6/10\n",
            "\u001b[1m1500/1500\u001b[0m \u001b[32m━━━━━━━━━━━━━━━━━━━━\u001b[0m\u001b[37m\u001b[0m \u001b[1m9s\u001b[0m 5ms/step - accuracy: 0.9900 - loss: 0.0372 - val_accuracy: 0.9714 - val_loss: 0.0966\n",
            "Epoch 7/10\n",
            "\u001b[1m1500/1500\u001b[0m \u001b[32m━━━━━━━━━━━━━━━━━━━━\u001b[0m\u001b[37m\u001b[0m \u001b[1m10s\u001b[0m 5ms/step - accuracy: 0.9909 - loss: 0.0322 - val_accuracy: 0.9754 - val_loss: 0.0843\n",
            "Epoch 8/10\n",
            "\u001b[1m1500/1500\u001b[0m \u001b[32m━━━━━━━━━━━━━━━━━━━━\u001b[0m\u001b[37m\u001b[0m \u001b[1m10s\u001b[0m 5ms/step - accuracy: 0.9938 - loss: 0.0221 - val_accuracy: 0.9730 - val_loss: 0.0994\n",
            "Epoch 9/10\n",
            "\u001b[1m1500/1500\u001b[0m \u001b[32m━━━━━━━━━━━━━━━━━━━━\u001b[0m\u001b[37m\u001b[0m \u001b[1m10s\u001b[0m 5ms/step - accuracy: 0.9948 - loss: 0.0182 - val_accuracy: 0.9762 - val_loss: 0.0849\n",
            "Epoch 10/10\n",
            "\u001b[1m1500/1500\u001b[0m \u001b[32m━━━━━━━━━━━━━━━━━━━━\u001b[0m\u001b[37m\u001b[0m \u001b[1m11s\u001b[0m 5ms/step - accuracy: 0.9962 - loss: 0.0147 - val_accuracy: 0.9773 - val_loss: 0.0882\n"
          ]
        }
      ]
    },
    {
      "cell_type": "code",
      "source": [
        "# Adjust training parameters such as epochs and batch size based on validation outcomes.\n",
        "history = model.fit(x_train_flat, y_train_encoded, epochs=10, validation_data=(x_val_flat, y_val_encoded))\n"
      ],
      "metadata": {
        "colab": {
          "base_uri": "https://localhost:8080/"
        },
        "id": "eojyAKSbssI9",
        "outputId": "3b25f8d9-f058-4ca9-ac73-36c71eef6593"
      },
      "execution_count": 31,
      "outputs": [
        {
          "output_type": "stream",
          "name": "stdout",
          "text": [
            "Epoch 1/10\n",
            "\u001b[1m1500/1500\u001b[0m \u001b[32m━━━━━━━━━━━━━━━━━━━━\u001b[0m\u001b[37m\u001b[0m \u001b[1m7s\u001b[0m 5ms/step - accuracy: 0.9966 - loss: 0.0124 - val_accuracy: 0.9767 - val_loss: 0.0917\n",
            "Epoch 2/10\n",
            "\u001b[1m1500/1500\u001b[0m \u001b[32m━━━━━━━━━━━━━━━━━━━━\u001b[0m\u001b[37m\u001b[0m \u001b[1m7s\u001b[0m 5ms/step - accuracy: 0.9960 - loss: 0.0118 - val_accuracy: 0.9778 - val_loss: 0.0886\n",
            "Epoch 3/10\n",
            "\u001b[1m1500/1500\u001b[0m \u001b[32m━━━━━━━━━━━━━━━━━━━━\u001b[0m\u001b[37m\u001b[0m \u001b[1m6s\u001b[0m 4ms/step - accuracy: 0.9984 - loss: 0.0072 - val_accuracy: 0.9768 - val_loss: 0.0999\n",
            "Epoch 4/10\n",
            "\u001b[1m1500/1500\u001b[0m \u001b[32m━━━━━━━━━━━━━━━━━━━━\u001b[0m\u001b[37m\u001b[0m \u001b[1m7s\u001b[0m 5ms/step - accuracy: 0.9979 - loss: 0.0077 - val_accuracy: 0.9778 - val_loss: 0.0900\n",
            "Epoch 5/10\n",
            "\u001b[1m1500/1500\u001b[0m \u001b[32m━━━━━━━━━━━━━━━━━━━━\u001b[0m\u001b[37m\u001b[0m \u001b[1m9s\u001b[0m 4ms/step - accuracy: 0.9982 - loss: 0.0069 - val_accuracy: 0.9772 - val_loss: 0.0954\n",
            "Epoch 6/10\n",
            "\u001b[1m1500/1500\u001b[0m \u001b[32m━━━━━━━━━━━━━━━━━━━━\u001b[0m\u001b[37m\u001b[0m \u001b[1m7s\u001b[0m 5ms/step - accuracy: 0.9983 - loss: 0.0060 - val_accuracy: 0.9783 - val_loss: 0.1010\n",
            "Epoch 7/10\n",
            "\u001b[1m1500/1500\u001b[0m \u001b[32m━━━━━━━━━━━━━━━━━━━━\u001b[0m\u001b[37m\u001b[0m \u001b[1m11s\u001b[0m 5ms/step - accuracy: 0.9987 - loss: 0.0048 - val_accuracy: 0.9784 - val_loss: 0.1034\n",
            "Epoch 8/10\n",
            "\u001b[1m1500/1500\u001b[0m \u001b[32m━━━━━━━━━━━━━━━━━━━━\u001b[0m\u001b[37m\u001b[0m \u001b[1m9s\u001b[0m 4ms/step - accuracy: 0.9984 - loss: 0.0053 - val_accuracy: 0.9778 - val_loss: 0.1070\n",
            "Epoch 9/10\n",
            "\u001b[1m1500/1500\u001b[0m \u001b[32m━━━━━━━━━━━━━━━━━━━━\u001b[0m\u001b[37m\u001b[0m \u001b[1m10s\u001b[0m 4ms/step - accuracy: 0.9978 - loss: 0.0062 - val_accuracy: 0.9771 - val_loss: 0.1193\n",
            "Epoch 10/10\n",
            "\u001b[1m1500/1500\u001b[0m \u001b[32m━━━━━━━━━━━━━━━━━━━━\u001b[0m\u001b[37m\u001b[0m \u001b[1m11s\u001b[0m 4ms/step - accuracy: 0.9984 - loss: 0.0059 - val_accuracy: 0.9785 - val_loss: 0.1091\n"
          ]
        }
      ]
    },
    {
      "cell_type": "code",
      "metadata": {
        "colab": {
          "base_uri": "https://localhost:8080/"
        },
        "id": "2f189efe",
        "outputId": "b37018eb-996c-44d8-8d62-f0f023cc49fc"
      },
      "source": [
        "# Evaluate the model on the test data.\n",
        "loss, accuracy = model.evaluate(x_test_flat, y_test_encoded)\n",
        "\n",
        "print(f\"Test Loss: {loss}\")\n",
        "print(f\"Test Accuracy: {accuracy}\")"
      ],
      "execution_count": 28,
      "outputs": [
        {
          "output_type": "stream",
          "name": "stdout",
          "text": [
            "\u001b[1m313/313\u001b[0m \u001b[32m━━━━━━━━━━━━━━━━━━━━\u001b[0m\u001b[37m\u001b[0m \u001b[1m1s\u001b[0m 2ms/step - accuracy: 0.9715 - loss: 0.1019\n",
            "Test Loss: 0.08459848910570145\n",
            "Test Accuracy: 0.9771999716758728\n"
          ]
        }
      ]
    },
    {
      "cell_type": "code",
      "source": [
        "# Utilize detailed metrics such as the confusion matrix and classification report for more comprehensive insights.\n",
        "from sklearn.metrics import confusion_matrix, classification_report\n",
        "import numpy as np\n",
        "\n",
        "# Get predictions from the model\n",
        "y_pred = model.predict(x_test_flat)\n",
        "\n",
        "# Convert predictions and true labels to class indices\n",
        "y_pred_classes = np.argmax(y_pred, axis=1)\n",
        "y_test_classes = np.argmax(y_test_encoded, axis=1)\n",
        "\n",
        "# Generate confusion matrix\n",
        "conf_matrix = confusion_matrix(y_test_classes, y_pred_classes)\n",
        "print(\"Confusion Matrix:\")\n",
        "print(conf_matrix)\n",
        "\n",
        "# Generate classification report\n",
        "class_report = classification_report(y_test_classes, y_pred_classes)\n",
        "print(\"\\nClassification Report:\")\n",
        "print(class_report)"
      ],
      "metadata": {
        "colab": {
          "base_uri": "https://localhost:8080/"
        },
        "id": "29tFWayOtKt_",
        "outputId": "8c3d2936-a5b5-4075-d011-eec16d2ff11a"
      },
      "execution_count": 30,
      "outputs": [
        {
          "output_type": "stream",
          "name": "stdout",
          "text": [
            "\u001b[1m313/313\u001b[0m \u001b[32m━━━━━━━━━━━━━━━━━━━━\u001b[0m\u001b[37m\u001b[0m \u001b[1m1s\u001b[0m 2ms/step\n",
            "Confusion Matrix:\n",
            "[[ 967    1    2    0    1    1    6    1    1    0]\n",
            " [   0 1125    4    1    0    1    2    1    1    0]\n",
            " [   3    2 1012    3    1    0    2    4    4    1]\n",
            " [   1    0    7  965    0   15    1    7    7    7]\n",
            " [   1    0    3    1  960    0    5    2    1    9]\n",
            " [   2    0    0    2    1  874    7    2    3    1]\n",
            " [   2    2    2    1    3    4  944    0    0    0]\n",
            " [   1    4   10    1    1    0    0 1004    4    3]\n",
            " [   5    1    3    3    1    7    3    4  944    3]\n",
            " [   0    3    0    2    7    3    0   11    6  977]]\n",
            "\n",
            "Classification Report:\n",
            "              precision    recall  f1-score   support\n",
            "\n",
            "           0       0.98      0.99      0.99       980\n",
            "           1       0.99      0.99      0.99      1135\n",
            "           2       0.97      0.98      0.98      1032\n",
            "           3       0.99      0.96      0.97      1010\n",
            "           4       0.98      0.98      0.98       982\n",
            "           5       0.97      0.98      0.97       892\n",
            "           6       0.97      0.99      0.98       958\n",
            "           7       0.97      0.98      0.97      1028\n",
            "           8       0.97      0.97      0.97       974\n",
            "           9       0.98      0.97      0.97      1009\n",
            "\n",
            "    accuracy                           0.98     10000\n",
            "   macro avg       0.98      0.98      0.98     10000\n",
            "weighted avg       0.98      0.98      0.98     10000\n",
            "\n"
          ]
        }
      ]
    }
  ]
}