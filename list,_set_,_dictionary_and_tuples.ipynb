{
  "nbformat": 4,
  "nbformat_minor": 0,
  "metadata": {
    "colab": {
      "provenance": [],
      "authorship_tag": "ABX9TyPjB56biDd94//1VTi4h6ah",
      "include_colab_link": true
    },
    "kernelspec": {
      "name": "python3",
      "display_name": "Python 3"
    },
    "language_info": {
      "name": "python"
    }
  },
  "cells": [
    {
      "cell_type": "markdown",
      "metadata": {
        "id": "view-in-github",
        "colab_type": "text"
      },
      "source": [
        "<a href=\"https://colab.research.google.com/github/hug627/streamlit-for-30-days/blob/main/list%2C_set_%2C_dictionary_and_tuples.ipynb\" target=\"_parent\"><img src=\"https://colab.research.google.com/assets/colab-badge.svg\" alt=\"Open In Colab\"/></a>"
      ]
    },
    {
      "cell_type": "code",
      "source": [
        "# code that multiples all the item in the list\n",
        "sample_list = [2,3,6]\n",
        "result = 1\n",
        "for num in sample_list :\n",
        "  result = result * num\n",
        "print(result)\n",
        "# sorted in increasing order by the last element in each tuple, from a given list of non-empty tuples.\n",
        "Sample_list =  [(2, 5), (1, 2), (4, 4), (2, 3), (2, 1)]\n",
        "print(sorted(Sample_list, key=lambda x: x[1]))\n",
        "# Program to combine two dictionaries by adding values for common keys\n",
        "\n",
        "# Given dictionaries\n",
        "d1 = {'a': 100, 'b': 200, 'c': 300}\n",
        "d2 = {'a': 300, 'b': 200, 'd': 400}\n",
        "# Create empty result dictionary\n",
        "result = {}\n",
        "# Add all keys from d1 to result\n",
        "for key in d1:\n",
        "    result[key] = d1[key]\n",
        "# Add keys from d2, combining values if key already exists\n",
        "for key in d2:\n",
        "    if key in result:\n",
        "        result[key] += d2[key]  # Add values for common keys\n",
        "    else:\n",
        "        result[key] = d2[key]   # Add new key\n",
        "print(\"Dictionary 1:\", d1)\n",
        "print(\"Dictionary 2:\", d2)\n",
        "print(\"Combined result:\", result)\n",
        "# Program to generate a dictionary with numbers and their squares\n",
        "# Input number\n",
        "n = 8\n",
        "# Generate the dictionary using a loop\n",
        "result = {}\n",
        "for i in range(1, n + 1):\n",
        "    result[i] = i * i\n",
        "# Print the result\n",
        "print(f\"Input: {n}\")\n",
        "print(f\"Output: {result}\")\n",
        "# Simple Python Set Operations\n",
        "my_set = {0, 1, 2, 3, 4}\n",
        "print(\"Created set:\", my_set)\n",
        "# 2. Iterate over the set\n",
        "print(\"Iterating over set:\")\n",
        "for item in my_set:\n",
        "    print(item)\n",
        "# 3. Add items to the set\n",
        "my_set.add(5)\n",
        "print(\"After adding 5:\", my_set)\n",
        "my_set.update([6, 7, 8])\n",
        "print(\"After adding 6, 7, 8:\", my_set)\n",
        "# 4. Remove items from the set\n",
        "my_set.remove(2)\n",
        "print(\"After removing 2:\", my_set)\n",
        "my_set.discard(3)\n",
        "print(\"After discarding 3:\", my_set)"
      ],
      "metadata": {
        "colab": {
          "base_uri": "https://localhost:8080/"
        },
        "id": "mzfnsFi-0_Wr",
        "outputId": "9f2ec11e-11c1-4a43-a1c7-e1c6333eb295"
      },
      "execution_count": 3,
      "outputs": [
        {
          "output_type": "stream",
          "name": "stdout",
          "text": [
            "36\n",
            "[(2, 1), (1, 2), (2, 3), (4, 4), (2, 5)]\n",
            "Dictionary 1: {'a': 100, 'b': 200, 'c': 300}\n",
            "Dictionary 2: {'a': 300, 'b': 200, 'd': 400}\n",
            "Combined result: {'a': 400, 'b': 400, 'c': 300, 'd': 400}\n",
            "Input: 8\n",
            "Output: {1: 1, 2: 4, 3: 9, 4: 16, 5: 25, 6: 36, 7: 49, 8: 64}\n",
            "Created set: {0, 1, 2, 3, 4}\n",
            "Iterating over set:\n",
            "0\n",
            "1\n",
            "2\n",
            "3\n",
            "4\n",
            "After adding 5: {0, 1, 2, 3, 4, 5}\n",
            "After adding 6, 7, 8: {0, 1, 2, 3, 4, 5, 6, 7, 8}\n",
            "After removing 2: {0, 1, 3, 4, 5, 6, 7, 8}\n",
            "After discarding 3: {0, 1, 4, 5, 6, 7, 8}\n"
          ]
        }
      ]
    }
  ]
}