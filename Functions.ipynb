{
  "cells": [
    {
      "cell_type": "markdown",
      "metadata": {
        "id": "view-in-github",
        "colab_type": "text"
      },
      "source": [
        "<a href=\"https://colab.research.google.com/github/hug627/streamlit-for-30-days/blob/main/Functions.ipynb\" target=\"_parent\"><img src=\"https://colab.research.google.com/assets/colab-badge.svg\" alt=\"Open In Colab\"/></a>"
      ]
    },
    {
      "cell_type": "code",
      "execution_count": null,
      "metadata": {
        "colab": {
          "background_save": true,
          "base_uri": "https://localhost:8080/"
        },
        "id": "inLeQ3qhzkjg",
        "outputId": "723c834a-2548-419a-e912-e97c5420ce07"
      },
      "outputs": [
        {
          "name": "stdout",
          "output_type": "stream",
          "text": [
            "The result is: 50.0\n"
          ]
        }
      ],
      "source": [
        "def calculator(num1, num2):\n",
        "    operator = input(\"Enter the operator (+, -, *, /): \")\n",
        "    if operator == '+':\n",
        "        return num1 + num2\n",
        "    elif operator == '-':\n",
        "        return num1 - num2\n",
        "    elif operator == '*':\n",
        "        return num1 * num2\n",
        "    elif operator == '/':\n",
        "        if num2 == 0:\n",
        "            print(\"Error: Division by zero is not allowed!\")\n",
        "            return None\n",
        "        return num1 / num2\n",
        "    else:\n",
        "        print(\"Error: Invalid operator!\")\n",
        "        return None\n",
        "# Main program\n",
        "while True:\n",
        "        # Get input from user\n",
        "        num1 = float(input(\"Enter the first number: \"))\n",
        "        num2 = float(input(\"Enter the second number: \"))\n",
        "        # Calculate result\n",
        "        result = calculator(num1, num2)\n",
        "        # Display result\n",
        "        if result is not None:\n",
        "            print(f\"The result is: {result}\")"
      ]
    }
  ],
  "metadata": {
    "colab": {
      "provenance": [],
      "authorship_tag": "ABX9TyMj3OjkrN5qjxsk8tt1zUBe",
      "include_colab_link": true
    },
    "kernelspec": {
      "display_name": "Python 3",
      "name": "python3"
    },
    "language_info": {
      "name": "python"
    }
  },
  "nbformat": 4,
  "nbformat_minor": 0
}