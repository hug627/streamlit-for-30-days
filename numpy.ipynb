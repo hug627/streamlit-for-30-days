{
  "nbformat": 4,
  "nbformat_minor": 0,
  "metadata": {
    "colab": {
      "provenance": [],
      "authorship_tag": "ABX9TyOmNVHUBZ+XRFge46ArtPiC",
      "include_colab_link": true
    },
    "kernelspec": {
      "name": "python3",
      "display_name": "Python 3"
    },
    "language_info": {
      "name": "python"
    }
  },
  "cells": [
    {
      "cell_type": "markdown",
      "metadata": {
        "id": "view-in-github",
        "colab_type": "text"
      },
      "source": [
        "<a href=\"https://colab.research.google.com/github/hug627/streamlit-for-30-days/blob/main/numpy.ipynb\" target=\"_parent\"><img src=\"https://colab.research.google.com/assets/colab-badge.svg\" alt=\"Open In Colab\"/></a>"
      ]
    },
    {
      "cell_type": "code",
      "execution_count": null,
      "metadata": {
        "id": "zgWku5qqk3tH"
      },
      "outputs": [],
      "source": [
        "import numpy as np\n",
        "# Step 1: Create the grades array\n",
        "grades = np.array([85, 90, 88, 92, 95, 80, 75, 98, 89, 83])\n",
        "# Step 2: Calculate statistical measures\n",
        "mean_grade = np.mean(grades)\n",
        "median_grade = np.median(grades)\n",
        "std_deviation = np.std(grades)\n",
        "# Step 3: Find max and min grades\n",
        "max_grade = np.max(grades)\n",
        "min_grade = np.min(grades)\n",
        "# Step 4: Sort grades in ascending order\n",
        "sorted_grades = np.sort(grades)\n",
        "# Step 5: Index of the highest grade\n",
        "index_of_max = np.argmax(grades)\n",
        "# Step 6: Count and percentage of students who scored above 90\n",
        "count_above_90 = np.sum(grades > 90)\n",
        "percent_above_90 = np.mean(grades > 90) * 100\n",
        "# Step 7: Percentage of students who scored below 75\n",
        "percent_below_75 = np.mean(grades < 75) * 100\n",
        "# Step 8: Extract high performers (grades > 90)\n",
        "high_performers = grades[grades > 90]\n",
        "# Step 9: Extract passing grades (grades > 75)\n",
        "passing_grades = grades[grades > 75]\n",
        "# Step 10: Print all results\n",
        "print(\"Grades:\", grades)\n",
        "print(\"Mean grade:\", mean_grade)\n",
        "print(\"Median grade:\", median_grade)\n",
        "print(\"Standard Deviation:\", std_deviation)\n",
        "print(\"Maximum grade:\", max_grade)\n",
        "print(\"Minimum grade:\", min_grade)\n",
        "print(\"Sorted grades:\", sorted_grades)\n",
        "print(\"Index of highest grade:\", index_of_max)\n",
        "print(\"Number of students who scored above 90:\", count_above_90)\n",
        "print(\"Percentage of students who scored above 90:\", percent_above_90, \"%\")\n",
        "print(\"Percentage of students who scored below 75:\", percent_below_75, \"%\")\n",
        "print(\"High performers (grades > 90):\", high_performers)\n",
        "print(\"Passing grades (grades > 75):\", passing_grades)\n"
      ]
    }
  ]
}