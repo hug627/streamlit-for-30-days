{
  "cells": [
    {
      "cell_type": "markdown",
      "metadata": {
        "id": "view-in-github",
        "colab_type": "text"
      },
      "source": [
        "<a href=\"https://colab.research.google.com/github/hug627/streamlit-for-30-days/blob/main/Untitled0.ipynb\" target=\"_parent\"><img src=\"https://colab.research.google.com/assets/colab-badge.svg\" alt=\"Open In Colab\"/></a>"
      ]
    },
    {
      "cell_type": "code",
      "execution_count": null,
      "metadata": {
        "colab": {
          "base_uri": "https://localhost:8080/"
        },
        "id": "i7kzzJ9v4HIU",
        "outputId": "65ce10f5-faa8-4f7d-e375-2461d3958fb3"
      },
      "outputs": [
        {
          "output_type": "stream",
          "name": "stdout",
          "text": [
            "Welcome to the Guess the Number game!\n",
            "I'm thinking of a number between 1 and 100. Can you guess what it is?\n",
            "Enter your guess: 31\n",
            "Congratulations! You guessed the number correctly!\n"
          ]
        }
      ],
      "source": [
        "import random\n",
        "def guess_the_number():\n",
        "    target_number = 31\n",
        "    print(\"Welcome to the Guess the Number game!\")\n",
        "    print(\"I'm thinking of a number between 1 and 100. Can you guess what it is?\")\n",
        "    # Keep looping until the player guesses correctly\n",
        "    while True:\n",
        "        try:\n",
        "            # Get player's guess as string and convert to integer\n",
        "            guess = input(\"Enter your guess: \")\n",
        "            guess = int(guess)\n",
        "\n",
        "            # Check if the guess is correct, too high, or too low\n",
        "            if guess == target_number:\n",
        "                print(\"Congratulations! You guessed the number correctly!\")\n",
        "                break\n",
        "            elif guess > target_number:\n",
        "                print(\"Your guess is too high. Guess again.\")\n",
        "            else:\n",
        "                print(\"Your guess is too low. Guess again.\")\n",
        "\n",
        "        except ValueError:\n",
        "            print(\"Please enter a valid number.\")\n",
        "# Run the game\n",
        "if __name__ == \"__main__\":\n",
        "    guess_the_number()"
      ]
    }
  ],
  "metadata": {
    "colab": {
      "provenance": [],
      "authorship_tag": "ABX9TyORFi5Xe05MkLMjBW1w1uQT",
      "include_colab_link": true
    },
    "kernelspec": {
      "display_name": "Python 3",
      "name": "python3"
    },
    "language_info": {
      "name": "python"
    }
  },
  "nbformat": 4,
  "nbformat_minor": 0
}