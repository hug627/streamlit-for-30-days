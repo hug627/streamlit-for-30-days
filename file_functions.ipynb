{
  "nbformat": 4,
  "nbformat_minor": 0,
  "metadata": {
    "colab": {
      "provenance": [],
      "authorship_tag": "ABX9TyNrfd3+aA2mFup05dSDnjKX",
      "include_colab_link": true
    },
    "kernelspec": {
      "name": "python3",
      "display_name": "Python 3"
    },
    "language_info": {
      "name": "python"
    }
  },
  "cells": [
    {
      "cell_type": "markdown",
      "metadata": {
        "id": "view-in-github",
        "colab_type": "text"
      },
      "source": [
        "<a href=\"https://colab.research.google.com/github/hug627/streamlit-for-30-days/blob/main/file_functions.ipynb\" target=\"_parent\"><img src=\"https://colab.research.google.com/assets/colab-badge.svg\" alt=\"Open In Colab\"/></a>"
      ]
    },
    {
      "cell_type": "code",
      "execution_count": 8,
      "metadata": {
        "colab": {
          "base_uri": "https://localhost:8080/"
        },
        "id": "kIqinPxM-7AC",
        "outputId": "23c5fe40-47e9-4385-ddb0-9c00abad729e"
      },
      "outputs": [
        {
          "output_type": "stream",
          "name": "stdout",
          "text": [
            "Drive already mounted at /content/drive; to attempt to forcibly remount, call drive.mount(\"/content/drive\", force_remount=True).\n",
            "File opened successfully\n",
            "Mean amount: nan\n",
            "Median amount: nan\n",
            "Standard deviation: nan\n"
          ]
        }
      ],
      "source": [
        "import numpy as np\n",
        "import os\n",
        "from google.colab import drive\n",
        "drive.mount('/content/drive')\n",
        "# Change to your Google Drive directory\n",
        "os.chdir('/content/drive/MyDrive')\n",
        "# Now you can use just the filename\n",
        "filename = \"Loan_prediction_dataset.csv\"\n",
        "print(\"File opened successfully\")\n",
        "data = np.genfromtxt(filename,\n",
        "                     delimiter=',',\n",
        "                     skip_header=1,\n",
        "                     usecols=1)\n",
        "# calculate statistics using numpy functions\n",
        "mean_amount = np.mean(data)\n",
        "median_amount  = np.median(data)\n",
        "std_amount = np.std(data)\n",
        "print(\"Mean amount:\",  mean_amount)\n",
        "print(\"Median amount:\", median_amount)\n",
        "print(\"Standard deviation:\", std_amount)"
      ]
    }
  ]
}