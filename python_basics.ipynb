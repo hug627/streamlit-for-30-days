{
  "nbformat": 4,
  "nbformat_minor": 0,
  "metadata": {
    "colab": {
      "provenance": [],
      "authorship_tag": "ABX9TyMGRgIe46I1G4saNC9W8yv4",
      "include_colab_link": true
    },
    "kernelspec": {
      "name": "python3",
      "display_name": "Python 3"
    },
    "language_info": {
      "name": "python"
    }
  },
  "cells": [
    {
      "cell_type": "markdown",
      "metadata": {
        "id": "view-in-github",
        "colab_type": "text"
      },
      "source": [
        "<a href=\"https://colab.research.google.com/github/hug627/streamlit-for-30-days/blob/main/python_basics.ipynb\" target=\"_parent\"><img src=\"https://colab.research.google.com/assets/colab-badge.svg\" alt=\"Open In Colab\"/></a>"
      ]
    },
    {
      "cell_type": "code",
      "source": [
        "import random\n",
        "\n",
        "print(\"Welcome to the Guess the Number game!\")\n",
        "print(\"I'm thinking of a number between 1 and 100. Can you guess what it is?\")\n"
      ],
      "metadata": {
        "colab": {
          "base_uri": "https://localhost:8080/"
        },
        "id": "2k089XCUibTB",
        "outputId": "cd3ae7cd-5923-4113-e029-63284ed17800"
      },
      "execution_count": 2,
      "outputs": [
        {
          "output_type": "stream",
          "name": "stdout",
          "text": [
            "Welcome to the Guess the Number game!\n",
            "I'm thinking of a number between 1 and 100. Can you guess what it is?\n",
            "Welcome to the Guess the Number game!\n",
            "I'm thinking of a number between 1 and 100. Can you guess what it is?\n"
          ]
        }
      ]
    },
    {
      "cell_type": "code",
      "source": [
        "# Step 2: Generate a random number between 1 and 100\n",
        "secret_number = random.randint(1, 100)\n"
      ],
      "metadata": {
        "id": "kwtdFJ2lihLZ"
      },
      "execution_count": 3,
      "outputs": []
    },
    {
      "cell_type": "code",
      "source": [
        "# Step 3: Keep asking until the player guesses correctly\n",
        "guess = None  # initialize guess variable"
      ],
      "metadata": {
        "id": "eu2ih6g_imED"
      },
      "execution_count": 4,
      "outputs": []
    },
    {
      "cell_type": "code",
      "source": [
        "while guess != secret_number:\n",
        "    # Step 4: Prompt the player for input\n",
        "    guess = input(\"Enter your guess: \")\n",
        "\n",
        "    # Step 5: Convert input to an integer\n",
        "    guess = int(guess)\n",
        "\n",
        "    # Step 6: Check if guess is too high, too low, or correct\n",
        "    if guess < secret_number:\n",
        "        print(\"Your guess is too low. Guess again.\")\n",
        "    elif guess > secret_number:\n",
        "        print(\"Your guess is too high. Guess again.\")\n",
        "    else:\n",
        "        print(\"🎉 Congratulations! You guessed the number correctly!\")\n"
      ],
      "metadata": {
        "colab": {
          "base_uri": "https://localhost:8080/"
        },
        "id": "yZHWjik8isWj",
        "outputId": "0ec2e6d2-2ede-4a6a-b0a5-018fb0a45c57"
      },
      "execution_count": null,
      "outputs": [
        {
          "output_type": "stream",
          "name": "stdout",
          "text": [
            "Enter your guess: 67\n",
            "Your guess is too high. Guess again.\n",
            "Enter your guess: 56\n",
            "Your guess is too high. Guess again.\n"
          ]
        }
      ]
    }
  ]
}